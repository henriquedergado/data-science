{
  "cells": [
    {
      "cell_type": "markdown",
      "id": "f36bc8b3",
      "metadata": {
        "id": "f36bc8b3"
      },
      "source": [
        "# Final Project – Implementing Speech Recognition in Call Center Environments\n",
        "MBA in Data Science & Artificial Intelligence – FIAP\n",
        "\n",
        "---\n",
        "* RM350785 **Alexandra Maria Rodrigues Marques Figueira**\n",
        "* RM352122 **Guilherme Ruy**\n",
        "* RM352152 **Henrique da Silva Dergado**\n",
        "---\n",
        "\n",
        "LINK PARA GRAVAÇÃO DO VÍDEO DO YOUTUBE\n",
        "https://www.youtube.com/watch?v=j56rQrcuym0"
      ]
    },
    {
      "cell_type": "code",
      "execution_count": null,
      "id": "f718a6de",
      "metadata": {
        "scrolled": true,
        "id": "f718a6de",
        "outputId": "fa178107-cfaa-4abf-c826-2fc3d6567aaf"
      },
      "outputs": [
        {
          "name": "stdout",
          "output_type": "stream",
          "text": [
            "Collecting gtts\n",
            "  Obtaining dependency information for gtts from https://files.pythonhosted.org/packages/09/82/710c2bd7b164df39441b18b567ea7a96e286c4924e465de2e9830cdd5354/gTTS-2.5.2-py3-none-any.whl.metadata\n",
            "  Downloading gTTS-2.5.2-py3-none-any.whl.metadata (4.1 kB)\n",
            "Requirement already satisfied: requests<3,>=2.27 in c:\\users\\samsung\\anaconda3\\lib\\site-packages (from gtts) (2.31.0)\n",
            "Requirement already satisfied: click<8.2,>=7.1 in c:\\users\\samsung\\anaconda3\\lib\\site-packages (from gtts) (8.0.4)\n",
            "Requirement already satisfied: colorama in c:\\users\\samsung\\anaconda3\\lib\\site-packages (from click<8.2,>=7.1->gtts) (0.4.6)\n",
            "Requirement already satisfied: charset-normalizer<4,>=2 in c:\\users\\samsung\\anaconda3\\lib\\site-packages (from requests<3,>=2.27->gtts) (2.0.4)\n",
            "Requirement already satisfied: idna<4,>=2.5 in c:\\users\\samsung\\anaconda3\\lib\\site-packages (from requests<3,>=2.27->gtts) (3.4)\n",
            "Requirement already satisfied: urllib3<3,>=1.21.1 in c:\\users\\samsung\\anaconda3\\lib\\site-packages (from requests<3,>=2.27->gtts) (1.26.16)\n",
            "Requirement already satisfied: certifi>=2017.4.17 in c:\\users\\samsung\\anaconda3\\lib\\site-packages (from requests<3,>=2.27->gtts) (2024.2.2)\n",
            "Downloading gTTS-2.5.2-py3-none-any.whl (29 kB)\n",
            "Installing collected packages: gtts\n",
            "Successfully installed gtts-2.5.2\n"
          ]
        }
      ],
      "source": [
        "!pip install gtts"
      ]
    },
    {
      "cell_type": "code",
      "execution_count": null,
      "id": "d6890b88",
      "metadata": {
        "scrolled": true,
        "id": "d6890b88",
        "outputId": "4577949c-f9f7-4b95-86a4-d3349d38c373"
      },
      "outputs": [
        {
          "name": "stdout",
          "output_type": "stream",
          "text": [
            "Collecting SpeechRecognition\n",
            "  Obtaining dependency information for SpeechRecognition from https://files.pythonhosted.org/packages/e6/28/b5e6e769002e46a5edef16871884721d4b68da31dbd4509db6ea50f8b224/SpeechRecognition-3.10.4-py2.py3-none-any.whl.metadata\n",
            "  Downloading SpeechRecognition-3.10.4-py2.py3-none-any.whl.metadata (28 kB)\n",
            "Requirement already satisfied: requests>=2.26.0 in c:\\users\\samsung\\anaconda3\\lib\\site-packages (from SpeechRecognition) (2.31.0)\n",
            "Requirement already satisfied: typing-extensions in c:\\users\\samsung\\anaconda3\\lib\\site-packages (from SpeechRecognition) (4.11.0)\n",
            "Requirement already satisfied: charset-normalizer<4,>=2 in c:\\users\\samsung\\anaconda3\\lib\\site-packages (from requests>=2.26.0->SpeechRecognition) (2.0.4)\n",
            "Requirement already satisfied: idna<4,>=2.5 in c:\\users\\samsung\\anaconda3\\lib\\site-packages (from requests>=2.26.0->SpeechRecognition) (3.4)\n",
            "Requirement already satisfied: urllib3<3,>=1.21.1 in c:\\users\\samsung\\anaconda3\\lib\\site-packages (from requests>=2.26.0->SpeechRecognition) (1.26.16)\n",
            "Requirement already satisfied: certifi>=2017.4.17 in c:\\users\\samsung\\anaconda3\\lib\\site-packages (from requests>=2.26.0->SpeechRecognition) (2024.2.2)\n",
            "Downloading SpeechRecognition-3.10.4-py2.py3-none-any.whl (32.8 MB)\n",
            "   ---------------------------------------- 0.0/32.8 MB ? eta -:--:--\n",
            "   - -------------------------------------- 1.4/32.8 MB 22.6 MB/s eta 0:00:02\n",
            "   --- ------------------------------------ 3.1/32.8 MB 21.7 MB/s eta 0:00:02\n",
            "   ----- ---------------------------------- 4.6/32.8 MB 22.5 MB/s eta 0:00:02\n",
            "   ------- -------------------------------- 6.0/32.8 MB 22.5 MB/s eta 0:00:02\n",
            "   --------- ------------------------------ 7.4/32.8 MB 22.7 MB/s eta 0:00:02\n",
            "   ---------- ----------------------------- 8.6/32.8 MB 22.0 MB/s eta 0:00:02\n",
            "   ----------- ---------------------------- 9.7/32.8 MB 21.4 MB/s eta 0:00:02\n",
            "   -------------- ------------------------- 11.7/32.8 MB 22.6 MB/s eta 0:00:01\n",
            "   ---------------- ----------------------- 13.2/32.8 MB 22.6 MB/s eta 0:00:01\n",
            "   ---------------- ----------------------- 14.0/32.8 MB 21.8 MB/s eta 0:00:01\n",
            "   ------------------ --------------------- 15.1/32.8 MB 21.1 MB/s eta 0:00:01\n",
            "   ------------------- -------------------- 15.7/32.8 MB 20.5 MB/s eta 0:00:01\n",
            "   --------------------- ------------------ 17.5/32.8 MB 19.8 MB/s eta 0:00:01\n",
            "   ---------------------- ----------------- 18.5/32.8 MB 19.9 MB/s eta 0:00:01\n",
            "   ------------------------ --------------- 20.2/32.8 MB 21.1 MB/s eta 0:00:01\n",
            "   -------------------------- ------------- 21.5/32.8 MB 20.5 MB/s eta 0:00:01\n",
            "   --------------------------- ------------ 22.8/32.8 MB 19.3 MB/s eta 0:00:01\n",
            "   ----------------------------- ---------- 24.5/32.8 MB 19.9 MB/s eta 0:00:01\n",
            "   ------------------------------- -------- 26.1/32.8 MB 21.8 MB/s eta 0:00:01\n",
            "   --------------------------------- ------ 27.8/32.8 MB 22.6 MB/s eta 0:00:01\n",
            "   ----------------------------------- ---- 29.6/32.8 MB 22.5 MB/s eta 0:00:01\n",
            "   -------------------------------------- - 31.3/32.8 MB 23.4 MB/s eta 0:00:01\n",
            "   ---------------------------------------  32.8/32.8 MB 24.2 MB/s eta 0:00:01\n",
            "   ---------------------------------------  32.8/32.8 MB 24.2 MB/s eta 0:00:01\n",
            "   ---------------------------------------  32.8/32.8 MB 24.2 MB/s eta 0:00:01\n",
            "   ---------------------------------------  32.8/32.8 MB 24.2 MB/s eta 0:00:01\n",
            "   ---------------------------------------- 32.8/32.8 MB 12.6 MB/s eta 0:00:00\n",
            "Installing collected packages: SpeechRecognition\n",
            "Successfully installed SpeechRecognition-3.10.4\n"
          ]
        }
      ],
      "source": [
        "!pip install SpeechRecognition"
      ]
    },
    {
      "cell_type": "code",
      "execution_count": null,
      "id": "c07b0aec",
      "metadata": {
        "id": "c07b0aec",
        "outputId": "08e7bb39-223d-4ee6-ec3e-7069076e62d1"
      },
      "outputs": [
        {
          "name": "stdout",
          "output_type": "stream",
          "text": [
            "Collecting pygame\n",
            "  Obtaining dependency information for pygame from https://files.pythonhosted.org/packages/1b/e0/edce124be8f73249e6b862e13107adc1f7e3b275ed9468d018026b6fbf91/pygame-2.6.0-cp311-cp311-win_amd64.whl.metadata\n",
            "  Downloading pygame-2.6.0-cp311-cp311-win_amd64.whl.metadata (13 kB)\n",
            "Downloading pygame-2.6.0-cp311-cp311-win_amd64.whl (10.8 MB)\n",
            "   ---------------------------------------- 0.0/10.8 MB ? eta -:--:--\n",
            "   --- ------------------------------------ 0.9/10.8 MB 28.4 MB/s eta 0:00:01\n",
            "   ------- -------------------------------- 1.9/10.8 MB 24.3 MB/s eta 0:00:01\n",
            "   ------------ --------------------------- 3.4/10.8 MB 19.5 MB/s eta 0:00:01\n",
            "   ------------------ --------------------- 4.9/10.8 MB 19.6 MB/s eta 0:00:01\n",
            "   --------------------- ------------------ 5.9/10.8 MB 18.8 MB/s eta 0:00:01\n",
            "   --------------------------- ------------ 7.5/10.8 MB 19.9 MB/s eta 0:00:01\n",
            "   ----------------------------------- ---- 9.6/10.8 MB 21.8 MB/s eta 0:00:01\n",
            "   ---------------------------------------  10.7/10.8 MB 21.9 MB/s eta 0:00:01\n",
            "   ---------------------------------------  10.7/10.8 MB 21.9 MB/s eta 0:00:01\n",
            "   ---------------------------------------  10.7/10.8 MB 21.9 MB/s eta 0:00:01\n",
            "   ---------------------------------------- 10.8/10.8 MB 16.8 MB/s eta 0:00:00\n",
            "Installing collected packages: pygame\n",
            "Successfully installed pygame-2.6.0\n"
          ]
        }
      ],
      "source": [
        "!pip install pygame"
      ]
    },
    {
      "cell_type": "code",
      "execution_count": null,
      "id": "f9a9ea7a",
      "metadata": {
        "id": "f9a9ea7a"
      },
      "outputs": [],
      "source": [
        "from gtts import gTTS, lang\n",
        "from IPython.display import Audio"
      ]
    },
    {
      "cell_type": "code",
      "execution_count": null,
      "id": "c679e7a3",
      "metadata": {
        "id": "c679e7a3"
      },
      "outputs": [],
      "source": [
        "import io\n",
        "\n",
        "def falar_1(texto, lang='pt'):\n",
        "    bytesfile = io.BytesIO()\n",
        "    audio = gTTS(text=texto, lang=lang)\n",
        "    audio.write_to_fp(bytesfile)\n",
        "    bytesfile.seek(0)\n",
        "    return Audio(bytesfile.read(), autoplay=True)"
      ]
    },
    {
      "cell_type": "code",
      "execution_count": null,
      "id": "c283ed72",
      "metadata": {
        "id": "c283ed72",
        "outputId": "a3b307b6-fe63-467b-cf97-e9785638d210"
      },
      "outputs": [
        {
          "name": "stdout",
          "output_type": "stream",
          "text": [
            "pygame 2.6.0 (SDL 2.28.4, Python 3.11.5)\n",
            "Hello from the pygame community. https://www.pygame.org/contribute.html\n"
          ]
        }
      ],
      "source": [
        "import io\n",
        "from gtts import gTTS\n",
        "import pygame\n",
        "import tempfile\n",
        "\n",
        "def falar(texto, lang='pt'):\n",
        "    # Cria o áudio usando gTTS\n",
        "    audio = gTTS(text=texto, lang=lang)\n",
        "    # Salva o áudio em um arquivo temporário\n",
        "    with tempfile.NamedTemporaryFile(delete=False, suffix=\".mp3\") as temp_audio_file:\n",
        "        audio.save(temp_audio_file.name)\n",
        "        temp_audio_path = temp_audio_file.name\n",
        "    # Inicializa o mixer do pygame\n",
        "    pygame.mixer.init()\n",
        "    # Carrega o áudio\n",
        "    pygame.mixer.music.load(temp_audio_path)\n",
        "    # Reproduz o áudio\n",
        "    pygame.mixer.music.play()\n",
        "    # Aguarda o término da reprodução\n",
        "    while pygame.mixer.music.get_busy():\n",
        "        pygame.time.Clock().tick(10)"
      ]
    },
    {
      "cell_type": "code",
      "execution_count": null,
      "id": "84fbb831",
      "metadata": {
        "id": "84fbb831"
      },
      "outputs": [],
      "source": [
        "texto_hi = \"Olá, seja bem vindo ao atendimento da Quantum Finance. Para prosseguir com seu atendimento, por favor, informe o nome da sua empresa\"\n",
        "texto_options = \"Escolha uma das opções a seguir: Consultar saldo da conta, Simulação de compra internacional, Falar com um atendente ou Sair do atendimento\"\n",
        "texto_resp_saldo = \"Você escolheu Consultar saldo da conta\"\n",
        "texto_resp_simulacao = \"Você escolheu Simulação de compra internacional\"\n",
        "texto_resp_falar = \"Você escolheu Falar com um atendente\"\n",
        "texto_resp_sair = \"Você escolheu Sair do atendimento. Agradecemos o seu contato.\"\n",
        "texto_none = \"Não entendi\""
      ]
    },
    {
      "cell_type": "code",
      "execution_count": null,
      "id": "97e7e8f1",
      "metadata": {
        "id": "97e7e8f1"
      },
      "outputs": [],
      "source": [
        "#tESTE DE VOZ\n",
        "falar(texto_hi)"
      ]
    },
    {
      "cell_type": "code",
      "execution_count": null,
      "id": "305c3dfe",
      "metadata": {
        "scrolled": true,
        "id": "305c3dfe",
        "outputId": "807fa518-9391-4699-d396-1e7d126f3933"
      },
      "outputs": [
        {
          "name": "stdout",
          "output_type": "stream",
          "text": [
            "Collecting sounddevice\n",
            "  Obtaining dependency information for sounddevice from https://files.pythonhosted.org/packages/d4/09/bfdd393f1bb1b90b4a6849b84972b7059c95e36818cc489922228d58cc63/sounddevice-0.4.7-py3-none-win_amd64.whl.metadata\n",
            "  Downloading sounddevice-0.4.7-py3-none-win_amd64.whl.metadata (1.4 kB)\n",
            "Requirement already satisfied: numpy in c:\\users\\samsung\\anaconda3\\lib\\site-packages (1.24.3)\n",
            "Requirement already satisfied: scipy in c:\\users\\samsung\\anaconda3\\lib\\site-packages (1.11.1)\n",
            "Requirement already satisfied: CFFI>=1.0 in c:\\users\\samsung\\anaconda3\\lib\\site-packages (from sounddevice) (1.15.1)\n",
            "Requirement already satisfied: pycparser in c:\\users\\samsung\\anaconda3\\lib\\site-packages (from CFFI>=1.0->sounddevice) (2.21)\n",
            "Downloading sounddevice-0.4.7-py3-none-win_amd64.whl (200 kB)\n",
            "   ---------------------------------------- 0.0/200.1 kB ? eta -:--:--\n",
            "   --------------------------------------- 200.1/200.1 kB 12.7 MB/s eta 0:00:00\n",
            "Installing collected packages: sounddevice\n",
            "Successfully installed sounddevice-0.4.7\n"
          ]
        }
      ],
      "source": [
        "!pip install sounddevice numpy scipy"
      ]
    },
    {
      "cell_type": "code",
      "execution_count": null,
      "id": "976eba91",
      "metadata": {
        "id": "976eba91",
        "outputId": "067adecb-b5db-4b46-d2ca-89ed20a75087"
      },
      "outputs": [
        {
          "name": "stdout",
          "output_type": "stream",
          "text": [
            "Collecting pydub\n",
            "  Obtaining dependency information for pydub from https://files.pythonhosted.org/packages/a6/53/d78dc063216e62fc55f6b2eebb447f6a4b0a59f55c8406376f76bf959b08/pydub-0.25.1-py2.py3-none-any.whl.metadata\n",
            "  Downloading pydub-0.25.1-py2.py3-none-any.whl.metadata (1.4 kB)\n",
            "Downloading pydub-0.25.1-py2.py3-none-any.whl (32 kB)\n",
            "Installing collected packages: pydub\n",
            "Successfully installed pydub-0.25.1\n"
          ]
        }
      ],
      "source": [
        "!pip install pydub"
      ]
    },
    {
      "cell_type": "code",
      "execution_count": null,
      "id": "07ec52b0",
      "metadata": {
        "id": "07ec52b0"
      },
      "outputs": [],
      "source": [
        "import sounddevice as sd\n",
        "import numpy as np\n",
        "import scipy.io.wavfile as wav\n",
        "from pydub import AudioSegment\n",
        "import os\n",
        "\n",
        "# Função para gravar áudio\n",
        "def record_audio(duration=7, fs=44100):\n",
        "    print(\"Recording...\")\n",
        "    recording = sd.rec(int(duration * fs), samplerate=fs, channels=2, dtype='int16')\n",
        "    sd.wait()  # Espera até a gravação terminar\n",
        "    print(\"Recording finished.\")\n",
        "    return recording"
      ]
    },
    {
      "cell_type": "code",
      "execution_count": null,
      "id": "4dff65b4",
      "metadata": {
        "id": "4dff65b4"
      },
      "outputs": [],
      "source": [
        "import speech_recognition as sr\n",
        "\n",
        "def transcrever_audio(audio_file):\n",
        "  # Iniciando o reconhecedor de fala\n",
        "  recognizer = sr.Recognizer()\n",
        "\n",
        "  # Abrindo o arquivo de áudio\n",
        "  with sr.AudioFile(audio_file) as source:\n",
        "      audio_data = recognizer.record(source)\n",
        "\n",
        "  # Transcrevendo o áudio\n",
        "  text = recognizer.recognize_google(audio_data, language='pt-BR')\n",
        "  return text"
      ]
    },
    {
      "cell_type": "code",
      "execution_count": null,
      "id": "0d1f0a0a",
      "metadata": {
        "id": "0d1f0a0a"
      },
      "outputs": [],
      "source": [
        "def capturaAudioToText():\n",
        "    # Defina a duração da gravação e a taxa de amostragem\n",
        "    duration = 5  # segundos\n",
        "    fs = 44100  # taxa de amostragem\n",
        "\n",
        "    # Grave o áudio\n",
        "    audio = record_audio()\n",
        "\n",
        "    # Salve o áudio em um arquivo WAV\n",
        "    wav_filename = \"output.wav\"\n",
        "    wav.write(wav_filename, fs, audio)\n",
        "\n",
        "    # Transcreva o áudio\n",
        "    texto = transcrever_audio(wav_filename)\n",
        "    os.remove(wav_filename)\n",
        "    return texto"
      ]
    },
    {
      "cell_type": "code",
      "execution_count": null,
      "id": "564977b0",
      "metadata": {
        "id": "564977b0"
      },
      "outputs": [],
      "source": [
        "def swichOptions(option):\n",
        "    if \"consultar saldo da conta\" in option:\n",
        "        falar(texto_resp_saldo)\n",
        "    elif \"simulação de compra internacional\" in option:\n",
        "        falar(texto_resp_simulacao)\n",
        "    elif \"falar com um atendente\" in option:\n",
        "        falar(texto_resp_falar)\n",
        "    elif \"sair\" in option or \"sair do atendimento\" in option:\n",
        "        falar(texto_resp_sair)\n",
        "    else:\n",
        "        falar(texto_none)"
      ]
    },
    {
      "cell_type": "code",
      "execution_count": null,
      "id": "d3be835f",
      "metadata": {
        "id": "d3be835f",
        "outputId": "66ced787-31af-4ae8-d35f-477881e75d6d"
      },
      "outputs": [
        {
          "name": "stdout",
          "output_type": "stream",
          "text": [
            "Recording...\n",
            "Recording finished.\n",
            "Sadia\n",
            "Recording...\n",
            "Recording finished.\n",
            "consultar saldo da conta\n",
            "Recording...\n",
            "Recording finished.\n",
            "vou falar qualquer coisa para testar o sistema sem áudio\n",
            "Recording...\n",
            "Recording finished.\n",
            "sair do atendimento\n"
          ]
        }
      ],
      "source": [
        "falar(texto_hi)\n",
        "empresa = capturaAudioToText()\n",
        "print(empresa)\n",
        "falar(f\"Vou procurar no sistema os dados da empresa {empresa}\")\n",
        "\n",
        "while True:\n",
        "    falar(texto_options)\n",
        "    option = capturaAudioToText().lower()\n",
        "    print(option)\n",
        "    swichOptions(option)\n",
        "    if \"sair\" in option or \"sair do atendimento\" in option:\n",
        "        break"
      ]
    }
  ],
  "metadata": {
    "kernelspec": {
      "display_name": "Python 3 (ipykernel)",
      "language": "python",
      "name": "python3"
    },
    "language_info": {
      "codemirror_mode": {
        "name": "ipython",
        "version": 3
      },
      "file_extension": ".py",
      "mimetype": "text/x-python",
      "name": "python",
      "nbconvert_exporter": "python",
      "pygments_lexer": "ipython3",
      "version": "3.11.5"
    },
    "colab": {
      "provenance": []
    }
  },
  "nbformat": 4,
  "nbformat_minor": 5
}